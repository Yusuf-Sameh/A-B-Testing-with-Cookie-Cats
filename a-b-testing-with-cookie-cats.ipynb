{
 "cells": [
  {
   "cell_type": "markdown",
   "id": "bd784ebf",
   "metadata": {
    "dc": {
     "key": "3"
    },
    "deletable": false,
    "papermill": {
     "duration": 0.007565,
     "end_time": "2022-08-09T19:38:44.278493",
     "exception": false,
     "start_time": "2022-08-09T19:38:44.270928",
     "status": "completed"
    },
    "run_control": {
     "frozen": true
    },
    "tags": [
     "context"
    ]
   },
   "source": [
    "## 1. Of cats and cookies\n",
    "<p><a href=\"https://www.facebook.com/cookiecatsgame\">Cookie Cats</a> is a hugely popular mobile puzzle game developed by <a href=\"http://tactile.dk\">Tactile Entertainment</a>. It's a classic \"connect three\"-style puzzle game where the player must connect tiles of the same color to clear the board and win the level. It also features singing cats. We're not kidding! Check out this short demo:</p>\n",
    "<p><a href=\"https://youtu.be/GaP5f0jVTWE\"><img src=\"https://assets.datacamp.com/production/project_184/img/cookie_cats_video.jpeg\" style=\"width: 500px\"></a></p>\n",
    "<p>As players progress through the levels of the game, they will occasionally encounter gates that force them to wait a non-trivial amount of time or make an in-app purchase to progress. In addition to driving in-app purchases, these gates serve the important purpose of giving players an enforced break from playing the game, hopefully resulting in that the player's enjoyment of the game being increased and prolonged.</p>\n",
    "<p><img src=\"https://assets.datacamp.com/production/project_184/img/cc_gates.png\" alt></p>\n",
    "<p>But where should the gates be placed? Initially the first gate was placed at level 30, but in this notebook we're going to analyze an AB-test where we moved the first gate in Cookie Cats from level 30 to level 40. In particular, we will look at the impact on player retention. But before we get to that, a key step before undertaking any analysis is understanding the data. So let's load it in and take a look!</p>"
   ]
  },
  {
   "cell_type": "code",
   "execution_count": 1,
   "id": "52014248",
   "metadata": {
    "dc": {
     "key": "3"
    },
    "execution": {
     "iopub.execute_input": "2022-08-09T19:38:44.293310Z",
     "iopub.status.busy": "2022-08-09T19:38:44.292846Z",
     "iopub.status.idle": "2022-08-09T19:38:44.400339Z",
     "shell.execute_reply": "2022-08-09T19:38:44.399315Z"
    },
    "papermill": {
     "duration": 0.118338,
     "end_time": "2022-08-09T19:38:44.403294",
     "exception": false,
     "start_time": "2022-08-09T19:38:44.284956",
     "status": "completed"
    },
    "scrolled": true,
    "tags": [
     "sample_code"
    ]
   },
   "outputs": [
    {
     "data": {
      "text/html": [
       "<div>\n",
       "<style scoped>\n",
       "    .dataframe tbody tr th:only-of-type {\n",
       "        vertical-align: middle;\n",
       "    }\n",
       "\n",
       "    .dataframe tbody tr th {\n",
       "        vertical-align: top;\n",
       "    }\n",
       "\n",
       "    .dataframe thead th {\n",
       "        text-align: right;\n",
       "    }\n",
       "</style>\n",
       "<table border=\"1\" class=\"dataframe\">\n",
       "  <thead>\n",
       "    <tr style=\"text-align: right;\">\n",
       "      <th></th>\n",
       "      <th>userid</th>\n",
       "      <th>version</th>\n",
       "      <th>sum_gamerounds</th>\n",
       "      <th>retention_1</th>\n",
       "      <th>retention_7</th>\n",
       "    </tr>\n",
       "  </thead>\n",
       "  <tbody>\n",
       "    <tr>\n",
       "      <th>0</th>\n",
       "      <td>116</td>\n",
       "      <td>gate_30</td>\n",
       "      <td>3</td>\n",
       "      <td>False</td>\n",
       "      <td>False</td>\n",
       "    </tr>\n",
       "    <tr>\n",
       "      <th>1</th>\n",
       "      <td>337</td>\n",
       "      <td>gate_30</td>\n",
       "      <td>38</td>\n",
       "      <td>True</td>\n",
       "      <td>False</td>\n",
       "    </tr>\n",
       "    <tr>\n",
       "      <th>2</th>\n",
       "      <td>377</td>\n",
       "      <td>gate_40</td>\n",
       "      <td>165</td>\n",
       "      <td>True</td>\n",
       "      <td>False</td>\n",
       "    </tr>\n",
       "    <tr>\n",
       "      <th>3</th>\n",
       "      <td>483</td>\n",
       "      <td>gate_40</td>\n",
       "      <td>1</td>\n",
       "      <td>False</td>\n",
       "      <td>False</td>\n",
       "    </tr>\n",
       "    <tr>\n",
       "      <th>4</th>\n",
       "      <td>488</td>\n",
       "      <td>gate_40</td>\n",
       "      <td>179</td>\n",
       "      <td>True</td>\n",
       "      <td>True</td>\n",
       "    </tr>\n",
       "    <tr>\n",
       "      <th>5</th>\n",
       "      <td>540</td>\n",
       "      <td>gate_40</td>\n",
       "      <td>187</td>\n",
       "      <td>True</td>\n",
       "      <td>True</td>\n",
       "    </tr>\n",
       "    <tr>\n",
       "      <th>6</th>\n",
       "      <td>1066</td>\n",
       "      <td>gate_30</td>\n",
       "      <td>0</td>\n",
       "      <td>False</td>\n",
       "      <td>False</td>\n",
       "    </tr>\n",
       "    <tr>\n",
       "      <th>7</th>\n",
       "      <td>1444</td>\n",
       "      <td>gate_40</td>\n",
       "      <td>2</td>\n",
       "      <td>False</td>\n",
       "      <td>False</td>\n",
       "    </tr>\n",
       "    <tr>\n",
       "      <th>8</th>\n",
       "      <td>1574</td>\n",
       "      <td>gate_40</td>\n",
       "      <td>108</td>\n",
       "      <td>True</td>\n",
       "      <td>True</td>\n",
       "    </tr>\n",
       "    <tr>\n",
       "      <th>9</th>\n",
       "      <td>1587</td>\n",
       "      <td>gate_40</td>\n",
       "      <td>153</td>\n",
       "      <td>True</td>\n",
       "      <td>False</td>\n",
       "    </tr>\n",
       "  </tbody>\n",
       "</table>\n",
       "</div>"
      ],
      "text/plain": [
       "   userid  version  sum_gamerounds  retention_1  retention_7\n",
       "0     116  gate_30               3        False        False\n",
       "1     337  gate_30              38         True        False\n",
       "2     377  gate_40             165         True        False\n",
       "3     483  gate_40               1        False        False\n",
       "4     488  gate_40             179         True         True\n",
       "5     540  gate_40             187         True         True\n",
       "6    1066  gate_30               0        False        False\n",
       "7    1444  gate_40               2        False        False\n",
       "8    1574  gate_40             108         True         True\n",
       "9    1587  gate_40             153         True        False"
      ]
     },
     "execution_count": 1,
     "metadata": {},
     "output_type": "execute_result"
    }
   ],
   "source": [
    "# Importing pandas\n",
    "import pandas as pd\n",
    "\n",
    "# Reading in the data\n",
    "df = pd.read_csv('../input/cookie-cat-dataset/cookie_cats_dataset.csv')\n",
    "\n",
    "# Showing the first few rows\n",
    "df.head(10)"
   ]
  },
  {
   "cell_type": "markdown",
   "id": "940aa15f",
   "metadata": {
    "dc": {
     "key": "10"
    },
    "deletable": false,
    "papermill": {
     "duration": 0.006137,
     "end_time": "2022-08-09T19:38:44.416302",
     "exception": false,
     "start_time": "2022-08-09T19:38:44.410165",
     "status": "completed"
    },
    "run_control": {
     "frozen": true
    },
    "tags": [
     "context"
    ]
   },
   "source": [
    "## 2. The AB-test data\n",
    "<p>The data we have is from 90,189 players that installed the game while the AB-test was running. The variables are:</p>\n",
    "<ul>\n",
    "<li><code>userid</code> - a unique number that identifies each player.</li>\n",
    "<li><code>version</code> - whether the player was put in the control group (<code>gate_30</code> - a gate at level 30) or the group with the moved gate (<code>gate_40</code> - a gate at level 40).</li>\n",
    "<li><code>sum_gamerounds</code> - the number of game rounds played by the player during the first 14 days after install.</li>\n",
    "<li><code>retention_1</code> - did the player come back and play <strong>1 day</strong> after installing?</li>\n",
    "<li><code>retention_7</code> - did the player come back and play <strong>7 days</strong> after installing?</li>\n",
    "</ul>\n",
    "<p>When a player installed the game, he or she was randomly assigned to either <code>gate_30</code> or <code>gate_40</code>. As a sanity check, let's see if there are roughly the same number of players in each AB group. </p>"
   ]
  },
  {
   "cell_type": "code",
   "execution_count": 2,
   "id": "89d718eb",
   "metadata": {
    "dc": {
     "key": "10"
    },
    "execution": {
     "iopub.execute_input": "2022-08-09T19:38:44.430417Z",
     "iopub.status.busy": "2022-08-09T19:38:44.430055Z",
     "iopub.status.idle": "2022-08-09T19:38:44.465367Z",
     "shell.execute_reply": "2022-08-09T19:38:44.464188Z"
    },
    "papermill": {
     "duration": 0.046588,
     "end_time": "2022-08-09T19:38:44.468978",
     "exception": false,
     "start_time": "2022-08-09T19:38:44.422390",
     "status": "completed"
    },
    "tags": [
     "sample_code"
    ]
   },
   "outputs": [
    {
     "data": {
      "text/plain": [
       "version\n",
       "gate_30    44700\n",
       "gate_40    45489\n",
       "Name: userid, dtype: int64"
      ]
     },
     "execution_count": 2,
     "metadata": {},
     "output_type": "execute_result"
    }
   ],
   "source": [
    "# Counting the number of players in each AB group.\n",
    "df.groupby('version').count()['userid']"
   ]
  },
  {
   "cell_type": "markdown",
   "id": "11cf7e5d",
   "metadata": {
    "dc": {
     "key": "17"
    },
    "deletable": false,
    "papermill": {
     "duration": 0.006388,
     "end_time": "2022-08-09T19:38:44.481892",
     "exception": false,
     "start_time": "2022-08-09T19:38:44.475504",
     "status": "completed"
    },
    "run_control": {
     "frozen": true
    },
    "tags": [
     "context"
    ]
   },
   "source": [
    "## 3. The distribution of game rounds\n",
    "<p><img src=\"https://assets.datacamp.com/production/project_184/img/mr_waffles_smiling.png\" style=\"width:200px; float:left\"> </p>\n",
    "<p>It looks like there is roughly the same number of players in each group, nice!</p>\n",
    "<p>The focus of this analysis will be on how the gate placement affects player retention, but just for fun: Let's plot the distribution of the number of game rounds players played during their first week playing the game.</p>"
   ]
  },
  {
   "cell_type": "code",
   "execution_count": 3,
   "id": "1e40be1b",
   "metadata": {
    "dc": {
     "key": "17"
    },
    "execution": {
     "iopub.execute_input": "2022-08-09T19:38:44.495886Z",
     "iopub.status.busy": "2022-08-09T19:38:44.495544Z",
     "iopub.status.idle": "2022-08-09T19:38:44.758837Z",
     "shell.execute_reply": "2022-08-09T19:38:44.757833Z"
    },
    "papermill": {
     "duration": 0.273031,
     "end_time": "2022-08-09T19:38:44.761204",
     "exception": false,
     "start_time": "2022-08-09T19:38:44.488173",
     "status": "completed"
    },
    "tags": [
     "sample_code"
    ]
   },
   "outputs": [
    {
     "data": {
      "text/plain": [
       "Text(0, 0.5, 'Frequency')"
      ]
     },
     "execution_count": 3,
     "metadata": {},
     "output_type": "execute_result"
    },
    {
     "data": {
      "image/png": "[encoded data removed]",
      "text/plain": [
       "<Figure size 432x288 with 1 Axes>"
      ]
     },
     "metadata": {
      "needs_background": "light"
     },
     "output_type": "display_data"
    }
   ],
   "source": [
    "# This command makes plots appear in the notebook\n",
    "%matplotlib inline\n",
    "\n",
    "# Counting the number of players for each number of gamerounds \n",
    "plot_df = df.groupby('sum_gamerounds').count()['userid']\n",
    "\n",
    "# Plotting the distribution of players that played 0 to 100 game rounds\n",
    "ax = plot_df.head(100).plot(kind='hist', x='sum_gamerounds', y='userid')\n",
    "ax.set_xlabel(\"Sum of Game Rounds\")\n",
    "ax.set_ylabel(\"Frequency\")"
   ]
  },
  {
   "cell_type": "markdown",
   "id": "e91b9356",
   "metadata": {
    "dc": {
     "key": "24"
    },
    "deletable": false,
    "papermill": {
     "duration": 0.006465,
     "end_time": "2022-08-09T19:38:44.774442",
     "exception": false,
     "start_time": "2022-08-09T19:38:44.767977",
     "status": "completed"
    },
    "run_control": {
     "frozen": true
    },
    "tags": [
     "context"
    ]
   },
   "source": [
    "## 4. Overall 1-day retention\n",
    "<p>In the plot above we can see that some players install the game but then never play it (0 game rounds), some players just play a couple of game rounds in their first week, and some get really hooked!</p>\n",
    "<p>What we want is for players to like the game and to get hooked. A common metric in the video gaming industry for how fun and engaging a game is <em>1-day retention</em>: The percentage of players that comes back and plays the game <em>one day</em> after they have installed it.  The higher 1-day retention is, the easier it is to retain players and build a large player base. </p>\n",
    "<p>As a first step, let's look at what 1-day retention is overall.</p>"
   ]
  },
  {
   "cell_type": "code",
   "execution_count": 4,
   "id": "eb468ea8",
   "metadata": {
    "dc": {
     "key": "24"
    },
    "execution": {
     "iopub.execute_input": "2022-08-09T19:38:44.789935Z",
     "iopub.status.busy": "2022-08-09T19:38:44.789336Z",
     "iopub.status.idle": "2022-08-09T19:38:44.795649Z",
     "shell.execute_reply": "2022-08-09T19:38:44.794757Z"
    },
    "papermill": {
     "duration": 0.016499,
     "end_time": "2022-08-09T19:38:44.797723",
     "exception": false,
     "start_time": "2022-08-09T19:38:44.781224",
     "status": "completed"
    },
    "tags": [
     "sample_code"
    ]
   },
   "outputs": [
    {
     "data": {
      "text/plain": [
       "0.4452095044850259"
      ]
     },
     "execution_count": 4,
     "metadata": {},
     "output_type": "execute_result"
    }
   ],
   "source": [
    "# The % of users that came back the day after they installed\n",
    "df.retention_1.mean()"
   ]
  },
  {
   "cell_type": "markdown",
   "id": "8337ec07",
   "metadata": {
    "dc": {
     "key": "31"
    },
    "deletable": false,
    "papermill": {
     "duration": 0.007269,
     "end_time": "2022-08-09T19:38:44.813339",
     "exception": false,
     "start_time": "2022-08-09T19:38:44.806070",
     "status": "completed"
    },
    "run_control": {
     "frozen": true
    },
    "tags": [
     "context"
    ]
   },
   "source": [
    "## 5. 1-day retention by AB-group\n",
    "<p><img src=\"https://assets.datacamp.com/production/project_184/img/belle_cookie.png\" style=\"width:200px; float:right\"> </p>\n",
    "<p>So, a little less than half of the players come back one day after installing the game. Now that we have a benchmark, let's look at how 1-day retention differs between the two AB-groups.</p>"
   ]
  },
  {
   "cell_type": "code",
   "execution_count": 5,
   "id": "be1911b7",
   "metadata": {
    "dc": {
     "key": "31"
    },
    "execution": {
     "iopub.execute_input": "2022-08-09T19:38:44.828828Z",
     "iopub.status.busy": "2022-08-09T19:38:44.828396Z",
     "iopub.status.idle": "2022-08-09T19:38:44.851521Z",
     "shell.execute_reply": "2022-08-09T19:38:44.850387Z"
    },
    "papermill": {
     "duration": 0.033991,
     "end_time": "2022-08-09T19:38:44.854042",
     "exception": false,
     "start_time": "2022-08-09T19:38:44.820051",
     "status": "completed"
    },
    "tags": [
     "sample_code"
    ]
   },
   "outputs": [
    {
     "data": {
      "text/plain": [
       "version\n",
       "gate_30    0.448188\n",
       "gate_40    0.442283\n",
       "Name: retention_1, dtype: float64"
      ]
     },
     "execution_count": 5,
     "metadata": {},
     "output_type": "execute_result"
    }
   ],
   "source": [
    "# Calculating 1-day retention for each AB-group\n",
    "df.groupby('version').mean()['retention_1']"
   ]
  },
  {
   "cell_type": "markdown",
   "id": "622a1a61",
   "metadata": {
    "dc": {
     "key": "38"
    },
    "deletable": false,
    "papermill": {
     "duration": 0.00669,
     "end_time": "2022-08-09T19:38:44.867962",
     "exception": false,
     "start_time": "2022-08-09T19:38:44.861272",
     "status": "completed"
    },
    "run_control": {
     "frozen": true
    },
    "tags": [
     "context"
    ]
   },
   "source": [
    "## 6. Should we be confident in the difference?\n",
    "<p>It appears that there was a slight decrease in 1-day retention when the gate was moved to level 40 (44.2%) compared to the control when it was at level 30 (44.8%). It's a small change, but even small changes in retention can have a large impact. But while we are certain of the difference in the data, how certain should we be that a gate at level 40 will be worse in the future?</p>\n",
    "<p>There are a couple of ways we can get at the certainty of these retention numbers. Here we will use bootstrapping: We will repeatedly re-sample our dataset (with replacement) and calculate 1-day retention for those samples. The variation in 1-day retention will give us an indication of how uncertain the retention numbers are.</p>"
   ]
  },
  {
   "cell_type": "code",
   "execution_count": 6,
   "id": "f8aa3f9a",
   "metadata": {
    "dc": {
     "key": "38"
    },
    "execution": {
     "iopub.execute_input": "2022-08-09T19:38:44.884001Z",
     "iopub.status.busy": "2022-08-09T19:38:44.883316Z",
     "iopub.status.idle": "2022-08-09T19:38:54.782617Z",
     "shell.execute_reply": "2022-08-09T19:38:54.781682Z"
    },
    "papermill": {
     "duration": 9.910172,
     "end_time": "2022-08-09T19:38:54.785134",
     "exception": false,
     "start_time": "2022-08-09T19:38:44.874962",
     "status": "completed"
    },
    "tags": [
     "sample_code"
    ]
   },
   "outputs": [
    {
     "data": {
      "text/plain": [
       "<AxesSubplot:ylabel='Density'>"
      ]
     },
     "execution_count": 6,
     "metadata": {},
     "output_type": "execute_result"
    },
    {
     "data": {
      "image/png": "[encoded data removed]",
      "text/plain": [
       "<Figure size 432x288 with 1 Axes>"
      ]
     },
     "metadata": {
      "needs_background": "light"
     },
     "output_type": "display_data"
    }
   ],
   "source": [
    "# Creating an list with bootstrapped means for each AB-group\n",
    "boot_1d = []\n",
    "for i in range(500):\n",
    "    boot_mean = df.sample(frac=1, replace=True).groupby('version')['retention_1'].mean()\n",
    "    boot_1d.append(boot_mean)\n",
    "    \n",
    "# Transforming the list to a DataFrame\n",
    "boot_1d = pd.DataFrame(boot_1d)\n",
    "    \n",
    "# A Kernel Density Estimate plot of the bootstrap distributions\n",
    "boot_1d.plot(kind='kde')"
   ]
  },
  {
   "cell_type": "markdown",
   "id": "61b7c7f6",
   "metadata": {
    "dc": {
     "key": "46"
    },
    "deletable": false,
    "papermill": {
     "duration": 0.007845,
     "end_time": "2022-08-09T19:38:54.801048",
     "exception": false,
     "start_time": "2022-08-09T19:38:54.793203",
     "status": "completed"
    },
    "run_control": {
     "frozen": true
    },
    "tags": [
     "context"
    ]
   },
   "source": [
    "## 7. Zooming in on the difference\n",
    "<p>These two distributions above represent the bootstrap uncertainty over what the underlying 1-day retention could be for the two AB-groups. Just eyeballing this plot, we can see that there seems to be some evidence of a difference, albeit small. Let's zoom in on the difference in 1-day retention</p>\n",
    "<p>(<em>Note that in this notebook we have limited the number of bootstrap replication to 500 to keep the calculations quick. In \"production\" we would likely increase this to a much larger number, say, 10 000.</em>)</p>"
   ]
  },
  {
   "cell_type": "code",
   "execution_count": 7,
   "id": "cb74e0b2",
   "metadata": {
    "dc": {
     "key": "46"
    },
    "execution": {
     "iopub.execute_input": "2022-08-09T19:38:54.818935Z",
     "iopub.status.busy": "2022-08-09T19:38:54.818314Z",
     "iopub.status.idle": "2022-08-09T19:38:55.011078Z",
     "shell.execute_reply": "2022-08-09T19:38:55.010190Z"
    },
    "papermill": {
     "duration": 0.20438,
     "end_time": "2022-08-09T19:38:55.013322",
     "exception": false,
     "start_time": "2022-08-09T19:38:54.808942",
     "status": "completed"
    },
    "tags": [
     "sample_code"
    ]
   },
   "outputs": [
    {
     "data": {
      "image/png": "[encoded data removed]",
      "text/plain": [
       "<Figure size 432x288 with 1 Axes>"
      ]
     },
     "metadata": {
      "needs_background": "light"
     },
     "output_type": "display_data"
    }
   ],
   "source": [
    "# Adding a column with the % difference between the two AB-groups\n",
    "boot_1d['diff'] = (boot_1d.gate_30 - boot_1d.gate_40) / boot_1d.gate_40 * 100\n",
    "\n",
    "# Ploting the bootstrap % difference\n",
    "ax = boot_1d['diff'].plot(kind='kde')"
   ]
  },
  {
   "cell_type": "markdown",
   "id": "d6c8a064",
   "metadata": {
    "dc": {
     "key": "53"
    },
    "deletable": false,
    "papermill": {
     "duration": 0.007578,
     "end_time": "2022-08-09T19:38:55.028971",
     "exception": false,
     "start_time": "2022-08-09T19:38:55.021393",
     "status": "completed"
    },
    "run_control": {
     "frozen": true
    },
    "tags": [
     "context"
    ]
   },
   "source": [
    "## 8. The probability of a difference\n",
    "<p><img src=\"https://assets.datacamp.com/production/project_184/img/ziggy_smiling.png\" style=\"width:200px; float:left\"> </p>\n",
    "<p>From this chart, we can see that the most likely % difference is around 1% - 2%, and that most of the distribution is above 0%, in favor of a gate at level 30. But what is the <em>probability</em> that the difference is above 0%? Let's calculate that as well.</p>"
   ]
  },
  {
   "cell_type": "code",
   "execution_count": 8,
   "id": "f1a003c9",
   "metadata": {
    "dc": {
     "key": "53"
    },
    "execution": {
     "iopub.execute_input": "2022-08-09T19:38:55.046853Z",
     "iopub.status.busy": "2022-08-09T19:38:55.045899Z",
     "iopub.status.idle": "2022-08-09T19:38:55.052686Z",
     "shell.execute_reply": "2022-08-09T19:38:55.052020Z"
    },
    "papermill": {
     "duration": 0.0177,
     "end_time": "2022-08-09T19:38:55.054474",
     "exception": false,
     "start_time": "2022-08-09T19:38:55.036774",
     "status": "completed"
    },
    "tags": [
     "sample_code"
    ]
   },
   "outputs": [
    {
     "data": {
      "text/plain": [
       "0.954"
      ]
     },
     "execution_count": 8,
     "metadata": {},
     "output_type": "execute_result"
    }
   ],
   "source": [
    "# Calculating the probability that 1-day retention is greater when the gate is at level 30\n",
    "prob = (boot_1d['diff']>0).mean()\n",
    "\n",
    "# Pretty printing the probability\n",
    "prob"
   ]
  },
  {
   "cell_type": "markdown",
   "id": "7a7a361b",
   "metadata": {
    "dc": {
     "key": "53"
    },
    "papermill": {
     "duration": 0.008416,
     "end_time": "2022-08-09T19:38:55.070949",
     "exception": false,
     "start_time": "2022-08-09T19:38:55.062533",
     "status": "completed"
    },
    "tags": []
   },
   "source": [
    "that is mean that in 97% of the values, gate_30 mean is larger than gate_40 mean of retention_1"
   ]
  },
  {
   "cell_type": "markdown",
   "id": "cc0a162a",
   "metadata": {
    "dc": {
     "key": "60"
    },
    "deletable": false,
    "papermill": {
     "duration": 0.007403,
     "end_time": "2022-08-09T19:38:55.086091",
     "exception": false,
     "start_time": "2022-08-09T19:38:55.078688",
     "status": "completed"
    },
    "run_control": {
     "frozen": true
    },
    "tags": [
     "context"
    ]
   },
   "source": [
    "## 9. 7-day retention by AB-group\n",
    "<p>The bootstrap analysis tells us that there is a high probability that 1-day retention is better when the gate is at level 30. However, since players have only been playing the game for one day, it is likely that most players haven't reached level 30 yet. That is, many players won't have been affected by the gate, even if it's as early as level 30. </p>\n",
    "<p>But after having played for a week, more players should have reached level 40, and therefore it makes sense to also look at 7-day retention. That is: What percentage of the people that installed the game also showed up a week later to play the game again.</p>\n",
    "<p>Let's start by calculating 7-day retention for the two AB-groups.</p>"
   ]
  },
  {
   "cell_type": "code",
   "execution_count": 9,
   "id": "423719bc",
   "metadata": {
    "dc": {
     "key": "60"
    },
    "execution": {
     "iopub.execute_input": "2022-08-09T19:38:55.104292Z",
     "iopub.status.busy": "2022-08-09T19:38:55.103622Z",
     "iopub.status.idle": "2022-08-09T19:38:55.109796Z",
     "shell.execute_reply": "2022-08-09T19:38:55.109039Z"
    },
    "papermill": {
     "duration": 0.017675,
     "end_time": "2022-08-09T19:38:55.111578",
     "exception": false,
     "start_time": "2022-08-09T19:38:55.093903",
     "status": "completed"
    },
    "tags": []
   },
   "outputs": [
    {
     "data": {
      "text/plain": [
       "Index(['userid', 'version', 'sum_gamerounds', 'retention_1', 'retention_7'], dtype='object')"
      ]
     },
     "execution_count": 9,
     "metadata": {},
     "output_type": "execute_result"
    }
   ],
   "source": [
    "df.columns"
   ]
  },
  {
   "cell_type": "code",
   "execution_count": 10,
   "id": "7a974089",
   "metadata": {
    "dc": {
     "key": "60"
    },
    "execution": {
     "iopub.execute_input": "2022-08-09T19:38:55.129592Z",
     "iopub.status.busy": "2022-08-09T19:38:55.128978Z",
     "iopub.status.idle": "2022-08-09T19:38:55.146867Z",
     "shell.execute_reply": "2022-08-09T19:38:55.145894Z"
    },
    "papermill": {
     "duration": 0.029337,
     "end_time": "2022-08-09T19:38:55.148979",
     "exception": false,
     "start_time": "2022-08-09T19:38:55.119642",
     "status": "completed"
    },
    "tags": [
     "sample_code"
    ]
   },
   "outputs": [
    {
     "data": {
      "text/plain": [
       "version\n",
       "gate_30    0.190201\n",
       "gate_40    0.182000\n",
       "Name: retention_7, dtype: float64"
      ]
     },
     "execution_count": 10,
     "metadata": {},
     "output_type": "execute_result"
    }
   ],
   "source": [
    "# Calculating 7-day retention for both AB-groups\n",
    "df.groupby('version')['retention_7'].mean()"
   ]
  },
  {
   "cell_type": "markdown",
   "id": "e28c455b",
   "metadata": {
    "dc": {
     "key": "67"
    },
    "deletable": false,
    "papermill": {
     "duration": 0.007887,
     "end_time": "2022-08-09T19:38:55.165224",
     "exception": false,
     "start_time": "2022-08-09T19:38:55.157337",
     "status": "completed"
    },
    "run_control": {
     "frozen": true
    },
    "tags": [
     "context"
    ]
   },
   "source": [
    "## 10. Bootstrapping the difference again\n",
    "<p>Like with 1-day retention, we see that 7-day retention is slightly lower (18.2%) when the gate is at level 40 than when the gate is at level 30 (19.0%). This difference is also larger than for 1-day retention, presumably because more players have had time to hit the first gate. We also see that the <em>overall</em> 7-day retention is lower than the <em>overall</em> 1-day retention; fewer people play a game a week after installing than a day after installing.</p>\n",
    "<p>But as before, let's use bootstrap analysis to figure out how certain we should be of the difference between the AB-groups.</p>"
   ]
  },
  {
   "cell_type": "code",
   "execution_count": 11,
   "id": "6180dc94",
   "metadata": {
    "dc": {
     "key": "67"
    },
    "execution": {
     "iopub.execute_input": "2022-08-09T19:38:55.183673Z",
     "iopub.status.busy": "2022-08-09T19:38:55.183012Z",
     "iopub.status.idle": "2022-08-09T19:39:04.320677Z",
     "shell.execute_reply": "2022-08-09T19:39:04.319753Z"
    },
    "papermill": {
     "duration": 9.149596,
     "end_time": "2022-08-09T19:39:04.322918",
     "exception": false,
     "start_time": "2022-08-09T19:38:55.173322",
     "status": "completed"
    },
    "tags": [
     "sample_code"
    ]
   },
   "outputs": [
    {
     "data": {
      "text/plain": [
       "0.998"
      ]
     },
     "execution_count": 11,
     "metadata": {},
     "output_type": "execute_result"
    },
    {
     "data": {
      "image/png": "[encoded data removed]",
      "text/plain": [
       "<Figure size 432x288 with 1 Axes>"
      ]
     },
     "metadata": {
      "needs_background": "light"
     },
     "output_type": "display_data"
    }
   ],
   "source": [
    "# Creating a list with bootstrapped means for each AB-group\n",
    "boot_7d = []\n",
    "for i in range(500):\n",
    "    boot_mean = df.sample(frac=1, replace=True).groupby('version')['retention_7'].mean()\n",
    "    boot_7d.append(boot_mean)\n",
    "    \n",
    "# Transforming the list to a DataFrame\n",
    "boot_7d = pd.DataFrame(boot_7d)\n",
    "\n",
    "# Adding a column with the % difference between the two AB-groups\n",
    "boot_7d['diff'] = ((boot_7d.gate_30 - boot_7d.gate_40) * 100) / boot_7d.gate_40\n",
    "\n",
    "# Ploting the bootstrap % difference\n",
    "ax = boot_7d['diff'].plot(kind='kde')\n",
    "ax.set_xlabel(\"% difference in means\")\n",
    "\n",
    "# Calculating the probability that 7-day retention is greater when the gate is at level 30\n",
    "prob = (boot_7d['diff']>0).mean()\n",
    "\n",
    "# Pretty printing the probability\n",
    "prob"
   ]
  },
  {
   "cell_type": "markdown",
   "id": "c1181958",
   "metadata": {
    "dc": {
     "key": "74"
    },
    "deletable": false,
    "papermill": {
     "duration": 0.008004,
     "end_time": "2022-08-09T19:39:04.339751",
     "exception": false,
     "start_time": "2022-08-09T19:39:04.331747",
     "status": "completed"
    },
    "run_control": {
     "frozen": true
    },
    "tags": [
     "context"
    ]
   },
   "source": [
    "## 11.  The conclusion\n",
    "<p>The bootstrap result tells us that there is strong evidence that 7-day retention is higher when the gate is at level 30 than when it is at level 40. The conclusion is: If we want to keep retention high — both 1-day and 7-day retention — we should <strong>not</strong> move the gate from level 30 to level 40. There are, of course, other metrics we could look at, like the number of game rounds played or how much in-game purchases are made by the two AB-groups. But retention <em>is</em> one of the most important metrics. If we don't retain our player base, it doesn't matter how much money they spend in-game.</p>\n",
    "<p><img src=\"https://assets.datacamp.com/production/project_184/img/cookie_yellow.png\" style=\"width:100px; float:center\"> </p>\n",
    "<p>So, why is retention higher when the gate is positioned earlier? One could expect the opposite: The later the obstacle, the longer people are going to engage with the game. But this is not what the data tells us. The theory of <em>hedonic adaptation</em> can give one explanation for this. In short, hedonic adaptation is the tendency for people to get less and less enjoyment out of a fun activity over time if that activity is undertaken continuously. By forcing players to take a break when they reach a gate, their enjoyment of the game is prolonged. But when the gate is moved to level 40, fewer players make it far enough, and they are more likely to quit the game because they simply got bored of it. </p>"
   ]
  },
  {
   "cell_type": "code",
   "execution_count": 12,
   "id": "bf4df99f",
   "metadata": {
    "dc": {
     "key": "74"
    },
    "execution": {
     "iopub.execute_input": "2022-08-09T19:39:04.358384Z",
     "iopub.status.busy": "2022-08-09T19:39:04.357451Z",
     "iopub.status.idle": "2022-08-09T19:39:04.361769Z",
     "shell.execute_reply": "2022-08-09T19:39:04.360956Z"
    },
    "papermill": {
     "duration": 0.015749,
     "end_time": "2022-08-09T19:39:04.363653",
     "exception": false,
     "start_time": "2022-08-09T19:39:04.347904",
     "status": "completed"
    },
    "tags": [
     "sample_code"
    ]
   },
   "outputs": [],
   "source": [
    "# So, given the data and the bootstrap analysis\n",
    "# Should we move the gate from level 30 to level 40 ?\n",
    "move_to_level_40 = False # True or False ?"
   ]
  }
 ],
 "metadata": {
  "kernelspec": {
   "display_name": "Python 3",
   "language": "python",
   "name": "python3"
  },
  "language_info": {
   "codemirror_mode": {
    "name": "ipython",
    "version": 3
   },
   "file_extension": ".py",
   "mimetype": "text/x-python",
   "name": "python",
   "nbconvert_exporter": "python",
   "pygments_lexer": "ipython3",
   "version": "3.7.12"
  },
  "papermill": {
   "default_parameters": {},
   "duration": 28.848678,
   "end_time": "2022-08-09T19:39:04.992012",
   "environment_variables": {},
   "exception": null,
   "input_path": "__notebook__.ipynb",
   "output_path": "__notebook__.ipynb",
   "parameters": {},
   "start_time": "2022-08-09T19:38:36.143334",
   "version": "2.3.4"
  }
 },
 "nbformat": 4,
 "nbformat_minor": 5
}
